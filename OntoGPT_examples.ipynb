{
 "cells": [
  {
   "cell_type": "markdown",
   "id": "aec0047a-12fc-4fdc-94ba-d5015a68f2b8",
   "metadata": {},
   "source": [
    "\n",
    "\n",
    "\n",
    "# OntoGPT Examples"
   ]
  },
  {
   "cell_type": "markdown",
   "id": "c127d6c6-f63a-49ea-9dbf-529671e41a25",
   "metadata": {},
   "source": [
    "### Install and import needed libraries"
   ]
  },
  {
   "cell_type": "code",
   "execution_count": 5,
   "id": "79c327ec-0e96-4ee5-b4af-44bf24899612",
   "metadata": {},
   "outputs": [],
   "source": [
    "# %pip install ontogpt\n",
    "# %pip install llm_gpt4all\n",
    "\n",
    "import ontogpt\n",
    "import os"
   ]
  },
  {
   "cell_type": "markdown",
   "id": "236ad38f-105d-4fdd-98d9-28be79be7dc6",
   "metadata": {},
   "source": [
    "### Set API keys"
   ]
  },
  {
   "cell_type": "markdown",
   "id": "aa20dbde-35e9-4189-8cda-3e7336d41c80",
   "metadata": {},
   "source": [
    "You need an OpenAI API key and a bioportal API key to run the code in this notebook. "
   ]
  },
  {
   "cell_type": "code",
   "execution_count": 6,
   "id": "9ca2c87d-16f4-4bd4-b284-7d8eb84445eb",
   "metadata": {},
   "outputs": [],
   "source": [
    "oai_key = os.getenv('OPENAI_API_KEY')\n",
    "bioportal_key = os.getenv('BIOPORTAL_API_KEY')\n",
    "\n",
    "!runoak set-apikey -e openai oai_key\n",
    "!runoak set-apikey -e bioportal bioportal_key\n"
   ]
  },
  {
   "cell_type": "markdown",
   "id": "4bd95c7f-7c4c-401b-b8fa-16a504fa67e0",
   "metadata": {},
   "source": [
    "Make sure OntoGPT is installed propertly by running the help command. "
   ]
  },
  {
   "cell_type": "code",
   "execution_count": 7,
   "id": "c74656c9-36e1-479c-bdbe-633c522a2af0",
   "metadata": {},
   "outputs": [
    {
     "name": "stdout",
     "output_type": "stream",
     "text": [
      "Usage: ontogpt [OPTIONS] COMMAND [ARGS]...\n",
      "\n",
      "  CLI for ontogpt.\n",
      "\n",
      "  :param verbose: Verbosity while running. :param quiet: Boolean to be quiet\n",
      "  or verbose.\n",
      "\n",
      "Options:\n",
      "  -v, --verbose\n",
      "  -q, --quiet TEXT\n",
      "  --cache-db TEXT        Path to sqlite database to cache prompt-completion\n",
      "                         results\n",
      "  --skip-annotator TEXT  Skip one or more annotators (e.g. --skip-annotator\n",
      "                         gilda)\n",
      "  --version              Show the version and exit.\n",
      "  --help                 Show this message and exit.\n",
      "\n",
      "Commands:\n",
      "  answer                        Answer a set of questions defined in YAML.\n",
      "  categorize-mappings           Categorize a collection of SSSOM mappings.\n",
      "  clinical-notes                Create mock clinical notes.\n",
      "  complete                      Prompt completion.\n",
      "  convert                       Convert output format.\n",
      "  convert-examples              Convert training examples from YAML.\n",
      "  diagnose                      Diagnose a clinical case represented as...\n",
      "  dump-completions              Dump cached completions.\n",
      "  embed                         Embed text.\n",
      "  entity-similarity             Embed text.\n",
      "  eval                          Evaluate an extractor.\n",
      "  extract                       Extract knowledge from text guided by...\n",
      "  fill                          Fill in missing values.\n",
      "  generate-extract              Generate text and then extract knowledge...\n",
      "  halo                          Run HALO over inputs.\n",
      "  iteratively-generate-extract  Iterate through generate-extract.\n",
      "  list-models                   List all available models.\n",
      "  list-templates                List the templates.\n",
      "  openai-models                 List OpenAI models for prompt completion.\n",
      "  parse                         Parse OpenAI results.\n",
      "  pubmed-annotate               Retrieve a collection of PubMed IDs for a...\n",
      "  pubmed-extract                Extract knowledge from a single PubMed ID.\n",
      "  reason                        Reason.\n",
      "  recipe-extract                Extract from recipe on the web.\n",
      "  search-and-extract            Search for relevant literature and...\n",
      "  synonyms                      Extract synonyms.\n",
      "  text-distance                 Embed text and calculate euclidian...\n",
      "  text-similarity               Embed text.\n",
      "  web-extract                   Extract knowledge from web page.\n",
      "  wikipedia-extract             Extract knowledge from a Wikipedia page.\n",
      "  wikipedia-search              Extract knowledge from a Wikipedia page.\n"
     ]
    }
   ],
   "source": [
    "!ontogpt --help"
   ]
  },
  {
   "cell_type": "markdown",
   "id": "d781e2e0-b254-405b-8de5-1693ff1aafcb",
   "metadata": {},
   "source": [
    "### Run OntoGPT against a predefined template"
   ]
  },
  {
   "cell_type": "markdown",
   "id": "24c8f221-9bc4-4bfa-9f1c-6d91d733d2e5",
   "metadata": {},
   "source": [
    "First, create a text file as input. Save the file to the current directory. "
   ]
  },
  {
   "cell_type": "code",
   "execution_count": 8,
   "id": "9ef32676-f74a-4cf6-bbec-a05a1a3818c5",
   "metadata": {},
   "outputs": [],
   "source": [
    "content = 'One treatment for asthma is Albuterol (also known as salbutamol).'\n",
    "\n",
    "with open('drug_info.txt', 'w') as file:\n",
    "    file.write(content)"
   ]
  },
  {
   "cell_type": "markdown",
   "id": "df3af209-490b-484b-90e5-668a3ef8f861",
   "metadata": {},
   "source": [
    "Now, run the input file against an existing template, 'drug'. Print the results. "
   ]
  },
  {
   "cell_type": "code",
   "execution_count": 9,
   "id": "83367acc-0bf0-4793-8657-bb2f7b121030",
   "metadata": {},
   "outputs": [
    {
     "name": "stdout",
     "output_type": "stream",
     "text": [
      "---\n",
      "input_text: One treatment for asthma is Albuterol (also known as salbutamol).\n",
      "raw_completion_output: |-\n",
      "  disease: asthma\n",
      "  drug: Albuterol (also known as salbutamol)\n",
      "  mechanism_links: asthma; is treated by; Albuterol (also known as salbutamol)\n",
      "prompt: |+\n",
      "  Split the following piece of text into fields in the following format:\n",
      "\n",
      "  subject: <the value for subject>\n",
      "  predicate: <the value for predicate>\n",
      "  object: <the value for object>\n",
      "\n",
      "\n",
      "  Text:\n",
      "  Albuterol (also known as salbutamol)\n",
      "\n",
      "  ===\n",
      "\n",
      "extracted_object:\n",
      "  disease: MESH:D001249\n",
      "  drug: drugbank:DB01001\n",
      "  mechanism_links:\n",
      "    - subject: MESH:D001249\n",
      "      predicate: AUTO:%28not%20provided%29\n",
      "      object: AUTO:%28not%20provided%29\n",
      "    - predicate: AUTO:is%20treated%20by\n",
      "    - subject: MESH:D000420\n",
      "      predicate: AUTO:also%20known%20as\n",
      "      object: MESH:D000420\n",
      "named_entities:\n",
      "  - id: MESH:D001249\n",
      "    label: asthma\n",
      "  - id: drugbank:DB01001\n",
      "    label: Albuterol (also known as salbutamol)\n",
      "  - id: AUTO:%28not%20provided%29\n",
      "    label: (not provided)\n",
      "  - id: AUTO:is%20treated%20by\n",
      "    label: is treated by\n",
      "  - id: MESH:D000420\n",
      "    label: Albuterol\n",
      "  - id: AUTO:also%20known%20as\n",
      "    label: also known as\n"
     ]
    }
   ],
   "source": [
    "!ontogpt extract -t drug -i drug_info.txt"
   ]
  },
  {
   "cell_type": "markdown",
   "id": "c88dd8c2-072f-4533-9b79-bd49d5e36e45",
   "metadata": {},
   "source": [
    "### Run OntoGPT against a custom schema"
   ]
  },
  {
   "cell_type": "markdown",
   "id": "3cd15ad8-1e17-4afc-aab4-f5cd8820ef3b",
   "metadata": {},
   "source": [
    "In the last example, OntoGPT returned data about the drug Albuterol according to the structure and annotations set forth in a predefined schema. \n",
    "\n",
    "You can also define your own schemas. Say you have text snippets that describe treatments for common conditions. You want to locate the RXNORM code(s) for each treatment. \n",
    "\n",
    "First, you need to define a custom schema. You can learn more about the format required here: https://monarch-initiative.github.io/ontogpt/custom/\n",
    "\n",
    "The simple schema in the next cell defines a root class, TreatmentData, which has one property, Treatment. Members of the Treatment class are annotated with RXNORM codes using the RXNORM prefix. "
   ]
  },
  {
   "cell_type": "code",
   "execution_count": 10,
   "id": "c11fd4fb-7a63-467f-8ddf-342a8e3a3eb1",
   "metadata": {},
   "outputs": [],
   "source": [
    "rxnorm_schema = \"\"\"id: http://w3id.org/ontogpt/rxnorm_schema\n",
    "name: rxnorm_schema\n",
    "title: rxnorm Information Schema\n",
    "description: >-\n",
    "  A schema for extracting information related to common medical procedures via rxnorm.\n",
    "\n",
    "license: https://creativecommons.org/publicdomain/zero/1.0/\n",
    "prefixes:\n",
    "  linkml: https://w3id.org/linkml/\n",
    "  rxnorm: http://w3id.org/ontogpt/rxnorm_schema/\n",
    "  SNOMED: http://snomed.info/sct\n",
    "  MESH: http://mesh.com\n",
    "\n",
    "default_prefix: rxnorm\n",
    "default_range: string\n",
    "\n",
    "imports:\n",
    "  - linkml:types\n",
    "  - core\n",
    "\n",
    "classes:\n",
    "  TreatmentData:\n",
    "    tree_root: true\n",
    "    attributes:\n",
    "      treatments:\n",
    "        description: semicolon-separated list of treatments for common conditions\n",
    "        multivalued: true\n",
    "        range: Treatment\n",
    "\n",
    "\n",
    "  Treatment:\n",
    "    is_a: NamedEntity\n",
    "    annotations:\n",
    "      annotators: bioportal:RXNORM\n",
    "    id_prefixes:\n",
    "      - RXNORM\n",
    "\"\"\""
   ]
  },
  {
   "cell_type": "markdown",
   "id": "aaaf43d4-0035-4f7e-8f24-5ba344da89fe",
   "metadata": {},
   "source": [
    "First you need to save the template to the /templates directory where OntoGPT is installed."
   ]
  },
  {
   "cell_type": "code",
   "execution_count": 11,
   "id": "c3ecaa04-2987-44e1-8494-a6b3ba28d587",
   "metadata": {},
   "outputs": [],
   "source": [
    "# path to OntoGPT\n",
    "ontogpt_dir = os.path.dirname(ontogpt.__file__)\n",
    "# path to the templates directory\n",
    "templates_dir = os.path.join(ontogpt_dir, 'templates')\n",
    "\n",
    "# Give your schema a filename\n",
    "filename = 'new_rxnorm_template.yaml'\n",
    "new_template_path = os.path.join(templates_dir, filename)\n",
    "\n",
    "# Write the content to a file \n",
    "with open(new_template_path, 'w') as file:\n",
    "    file.write(rxnorm_schema)\n",
    "\n",
    "# If you want to verify that the template was saved to the template dir, uncomment the next two lines. \n",
    "# files = os.listdir(templates_dir)\n",
    "# print(files)"
   ]
  },
  {
   "cell_type": "markdown",
   "id": "0a295e93-04f1-44cd-9b0f-aae3aecb8f9d",
   "metadata": {},
   "source": [
    "Then you need to generate a Pydantic version of your schema, converting .yaml to .py. "
   ]
  },
  {
   "cell_type": "code",
   "execution_count": 12,
   "id": "1688671c-28e9-47b0-b907-67e26e265e00",
   "metadata": {},
   "outputs": [
    {
     "name": "stdout",
     "output_type": "stream",
     "text": [
      "/Users/releach/miniconda3/lib/python3.11/site-packages/ontogpt/templates\n"
     ]
    }
   ],
   "source": [
    "# Navigate to the templates dir \n",
    "%cd $templates_dir\n",
    "\n",
    "# Optionally, uncomment to check that you're in the templates dir and your yaml file has data in it\n",
    "# %pwd\n",
    "# %cat new_rxnorm_template.yaml\n",
    "\n",
    "# Generate Pydantic version\n",
    "!gen-pydantic --pydantic-version 2 new_rxnorm_template.yaml > new_rxnorm_template.py"
   ]
  },
  {
   "cell_type": "markdown",
   "id": "fd49040e-34bc-473f-a1cc-9e187d66458c",
   "metadata": {},
   "source": [
    "Finally, you're ready to use the new template. You can use it with the drug_info.txt file we defined earlier: "
   ]
  },
  {
   "cell_type": "code",
   "execution_count": 13,
   "id": "d0aadd88-128b-4ca8-aef3-a652c2075f4c",
   "metadata": {},
   "outputs": [
    {
     "name": "stdout",
     "output_type": "stream",
     "text": [
      "---\n",
      "input_text: One treatment for asthma is Albuterol (also known as salbutamol).\n",
      "raw_completion_output: 'treatments: Albuterol; salbutamol'\n",
      "prompt: |+\n",
      "  From the text below, extract the following entities in the following format:\n",
      "\n",
      "  treatments: <semicolon-separated list of treatments for common conditions>\n",
      "\n",
      "\n",
      "  Text:\n",
      "  One treatment for asthma is Albuterol (also known as salbutamol).\n",
      "\n",
      "  ===\n",
      "\n",
      "extracted_object:\n",
      "  treatments:\n",
      "    - RXNORM:435\n",
      "    - AUTO:salbutamol\n",
      "named_entities:\n",
      "  - id: RXNORM:435\n",
      "    label: Albuterol\n",
      "  - id: AUTO:salbutamol\n",
      "    label: salbutamol\n"
     ]
    }
   ],
   "source": [
    "!ontogpt extract -t new_rxnorm_template -i drug_info.txt"
   ]
  },
  {
   "cell_type": "markdown",
   "id": "c477e188-66f0-4c25-b8b3-620f623873c5",
   "metadata": {},
   "source": [
    "Or you can experiment with different inputs. "
   ]
  },
  {
   "cell_type": "code",
   "execution_count": 14,
   "id": "ec1eb153-8f54-4a8f-a01c-ffabf10d5e3c",
   "metadata": {},
   "outputs": [
    {
     "name": "stdout",
     "output_type": "stream",
     "text": [
      "---\n",
      "input_text: Treatments for depression include Wellbutrin, Zoloft, Lexapro, and Celexa.\n",
      "raw_completion_output: 'treatments: Wellbutrin; Zoloft; Lexapro; Celexa'\n",
      "prompt: |+\n",
      "  From the text below, extract the following entities in the following format:\n",
      "\n",
      "  treatments: <semicolon-separated list of treatments for common conditions>\n",
      "\n",
      "\n",
      "  Text:\n",
      "  Treatments for depression include Wellbutrin, Zoloft, Lexapro, and Celexa.\n",
      "\n",
      "  ===\n",
      "\n",
      "extracted_object:\n",
      "  treatments:\n",
      "    - RXNORM:42568\n",
      "    - RXNORM:82728\n",
      "    - RXNORM:352741\n",
      "    - RXNORM:215928\n",
      "named_entities:\n",
      "  - id: RXNORM:42568\n",
      "    label: Wellbutrin\n",
      "  - id: RXNORM:82728\n",
      "    label: Zoloft\n",
      "  - id: RXNORM:352741\n",
      "    label: Lexapro\n",
      "  - id: RXNORM:215928\n",
      "    label: Celexa\n"
     ]
    }
   ],
   "source": [
    "content = 'Treatments for depression include Wellbutrin, Zoloft, Lexapro, and Celexa.'\n",
    "\n",
    "with open('depression_treatments.txt', 'w') as file:\n",
    "    file.write(content)\n",
    "\n",
    "!ontogpt extract -t new_rxnorm_template -i depression_treatments.txt "
   ]
  },
  {
   "cell_type": "markdown",
   "id": "e342e73a-8e40-4b81-a9a5-9d2bbb6b0fb1",
   "metadata": {},
   "source": [
    "## Create a custom schema with multiple classes \n",
    "\n",
    "Here's another example of a custom schema with multiple classes. This schema roughly mirrors the elements in the Healthwise Condition Basics content set, though several key ontologies are not available so the exeperiment is limited. "
   ]
  },
  {
   "cell_type": "code",
   "execution_count": 17,
   "id": "094449f9-54d6-4b1c-bd6a-c3c9ea635770",
   "metadata": {},
   "outputs": [
    {
     "name": "stdout",
     "output_type": "stream",
     "text": [
      "/Users/releach/miniconda3/lib/python3.11/site-packages/ontogpt/templates\n"
     ]
    }
   ],
   "source": [
    "condbasics = \"\"\"\n",
    "id: http://w3id.org/ontogpt/condition_basics\n",
    "name: condition_basics_schema\n",
    "title: Condition Basics Information Schema\n",
    "description: >-\n",
    "  A schema for extracting information related to medical conditions, symptoms, and treatments. \n",
    "\n",
    "license: https://creativecommons.org/publicdomain/zero/1.0/\n",
    "prefixes:\n",
    "  linkml: https://w3id.org/linkml/\n",
    "  SNOMED: http://snomed.info/sct\n",
    "  MESH: http://mesh.com\n",
    "  RXNORM: http://purl.bioontology.org/ontology/RXNORM/\n",
    "  ICD10CM: https://bioportal.bioontology.org/ontologies/ICD10CM\n",
    "\n",
    "default_prefix: cbs\n",
    "default_range: string\n",
    "\n",
    "imports:\n",
    "  - linkml:types\n",
    "  - core\n",
    "\n",
    "classes:\n",
    "  ConditionBasicsData:\n",
    "    tree_root: true\n",
    "    attributes:\n",
    "      medications:\n",
    "        description: semicolon-separated list of common medications for the medical condition discussed in the text.  \n",
    "        multivalued: true\n",
    "        range:  Medication\n",
    "      symptoms: \n",
    "        description: semicolon-separated list of symptoms commonly associated with the medical condition discussed in the text. \n",
    "        multivalued: true\n",
    "        range: Symptom\n",
    "      causes:\n",
    "        description: semicolon-separated list of the causes of the medical conditions dicussed in the text. \n",
    "        multivalued: true\n",
    "        range: Cause\n",
    "      \n",
    "\n",
    "\n",
    "  Medication:\n",
    "    is_a: NamedEntity\n",
    "    annotations:\n",
    "      annotators: bioportal:RXNORM\n",
    "    id_prefixes:\n",
    "      - RXNORM\n",
    "\n",
    "\n",
    "  Symptom:\n",
    "    is_a: NamedEntity\n",
    "    annotations:\n",
    "      annotators: bioportal:SNOMEDCT\n",
    "    id_prefixes:\n",
    "      - SNOMEDCT\n",
    "\n",
    "\n",
    "  Cause:\n",
    "    is_a: NamedEntity\n",
    "    annotations:\n",
    "      annotators: bioportal:SNOMEDCT\n",
    "    id_prefixes:\n",
    "      - SNOMEDCT\n",
    "\"\"\"\n",
    "\n",
    "\n",
    "# Assign a filename\n",
    "filename = 'condbasics.yaml'\n",
    "new_template_path = os.path.join(templates_dir, filename)\n",
    "\n",
    "# Write the content to a file \n",
    "with open(new_template_path, 'w') as file:\n",
    "    file.write(condbasics)\n",
    "\n",
    "%cd $templates_dir\n",
    "# %pwd\n",
    "# %cat new_rxnorm_template.yaml\n",
    "\n",
    "# Generate Pydantic version\n",
    "!gen-pydantic --pydantic-version 2 condbasics.yaml > condbasics.py"
   ]
  },
  {
   "cell_type": "code",
   "execution_count": 19,
   "id": "791d77e9-0e30-4efe-ac1a-26208282acdd",
   "metadata": {},
   "outputs": [
    {
     "name": "stdout",
     "output_type": "stream",
     "text": [
      "---\n",
      "input_text: |2\n",
      "\n",
      "  What is cirrhosis?\n",
      "  Cirrhosis is a very serious condition in which scarring damages the liver. This scar tissue prevents the liver from working as it should. That can cause problems with blood clotting, which can lead to bleeding and bruising. Cirrhosis can also cause fluid buildup in the belly, jaundice, and severe bleeding in the digestive tract.\n",
      "  What causes it?\n",
      "  Cirrhosis can have many causes. Long-term, heavy use of alcohol can cause cirrhosis. So can chronic viral hepatitis. Other causes include autoimmune diseases, non-alcoholic steatohepatitis (NASH), blocked bile ducts in the liver, and certain diseases.\n",
      "  What are the symptoms?\n",
      "  You may not have symptoms in the early stages of cirrhosis. But as it gets worse, symptoms may include fatigue, yellowing of the skin (jaundice), small red spots and tiny lines on the skin, bruising easily, weight loss, itching, belly pain, and bleeding in the digestive tract.\n",
      "  How is cirrhosis treated?\n",
      "  Treatment may include medicines such as Diuretics, surgery, or lifestyle changes. Treatment can't cure cirrhosis. But it can sometimes prevent or delay more liver damage. To limit the damage to your liver and help control symptoms, you can make lifestyle changes. For example, don't drink alcohol. Limit sodium and fat. And avoid medicines that can harm your liver.\n",
      "raw_completion_output: |-\n",
      "  medications: Diuretics\n",
      "  symptoms: fatigue; yellowing of the skin (jaundice); small red spots and tiny lines on the skin; bruising easily; weight loss; itching; belly pain; bleeding in the digestive tract\n",
      "  causes: long-term, heavy use of alcohol; chronic viral hepatitis; autoimmune diseases; non-alcoholic steatohepatitis (NASH); blocked bile ducts in the liver; certain diseases\n",
      "prompt: |+\n",
      "  From the text below, extract the following entities in the following format:\n",
      "\n",
      "  medications: <semicolon-separated list of common medications for the medical condition discussed in the text.>\n",
      "  symptoms: <semicolon-separated list of symptoms commonly associated with the medical condition discussed in the text.>\n",
      "  causes: <semicolon-separated list of the causes of the medical conditions dicussed in the text.>\n",
      "\n",
      "\n",
      "  Text:\n",
      "\n",
      "  What is cirrhosis?\n",
      "  Cirrhosis is a very serious condition in which scarring damages the liver. This scar tissue prevents the liver from working as it should. That can cause problems with blood clotting, which can lead to bleeding and bruising. Cirrhosis can also cause fluid buildup in the belly, jaundice, and severe bleeding in the digestive tract.\n",
      "  What causes it?\n",
      "  Cirrhosis can have many causes. Long-term, heavy use of alcohol can cause cirrhosis. So can chronic viral hepatitis. Other causes include autoimmune diseases, non-alcoholic steatohepatitis (NASH), blocked bile ducts in the liver, and certain diseases.\n",
      "  What are the symptoms?\n",
      "  You may not have symptoms in the early stages of cirrhosis. But as it gets worse, symptoms may include fatigue, yellowing of the skin (jaundice), small red spots and tiny lines on the skin, bruising easily, weight loss, itching, belly pain, and bleeding in the digestive tract.\n",
      "  How is cirrhosis treated?\n",
      "  Treatment may include medicines such as Diuretics, surgery, or lifestyle changes. Treatment can't cure cirrhosis. But it can sometimes prevent or delay more liver damage. To limit the damage to your liver and help control symptoms, you can make lifestyle changes. For example, don't drink alcohol. Limit sodium and fat. And avoid medicines that can harm your liver.\n",
      "\n",
      "\n",
      "  ===\n",
      "\n",
      "extracted_object:\n",
      "  medications:\n",
      "    - AUTO:Diuretics\n",
      "  symptoms:\n",
      "    - SNOMEDCT:84229001\n",
      "    - SNOMEDCT:18165001\n",
      "    - SNOMEDCT:255507004\n",
      "    - AUTO:bruising%20easily\n",
      "    - SNOMEDCT:816160009\n",
      "    - SNOMEDCT:418290006\n",
      "    - SNOMEDCT:22253000\n",
      "    - SNOMEDCT:131148009\n",
      "  causes:\n",
      "    - SNOMEDCT:255511005\n",
      "    - SNOMEDCT:90734009\n",
      "    - SNOMEDCT:85828009\n",
      "    - SNOMEDCT:228281002\n",
      "    - SNOMEDCT:70150004\n",
      "    - SNOMEDCT:17162000\n",
      "named_entities:\n",
      "  - id: AUTO:Diuretics\n",
      "    label: Diuretics\n",
      "  - id: SNOMEDCT:84229001\n",
      "    label: fatigue\n",
      "  - id: SNOMEDCT:18165001\n",
      "    label: yellowing of the skin (jaundice)\n",
      "  - id: SNOMEDCT:255507004\n",
      "    label: small red spots and tiny lines on the skin\n",
      "  - id: AUTO:bruising%20easily\n",
      "    label: bruising easily\n",
      "  - id: SNOMEDCT:816160009\n",
      "    label: weight loss\n",
      "  - id: SNOMEDCT:418290006\n",
      "    label: itching\n",
      "  - id: SNOMEDCT:22253000\n",
      "    label: belly pain\n",
      "  - id: SNOMEDCT:131148009\n",
      "    label: bleeding in the digestive tract\n",
      "  - id: SNOMEDCT:255511005\n",
      "    label: long-term, heavy use of alcohol\n",
      "  - id: SNOMEDCT:90734009\n",
      "    label: chronic viral hepatitis\n",
      "  - id: SNOMEDCT:85828009\n",
      "    label: autoimmune diseases\n",
      "  - id: SNOMEDCT:228281002\n",
      "    label: non-alcoholic steatohepatitis (NASH)\n",
      "  - id: SNOMEDCT:70150004\n",
      "    label: blocked bile ducts in the liver\n",
      "  - id: SNOMEDCT:17162000\n",
      "    label: certain diseases\n"
     ]
    }
   ],
   "source": [
    "content = \"\"\"\n",
    "What is cirrhosis?\n",
    "Cirrhosis is a very serious condition in which scarring damages the liver. This scar tissue prevents the liver from working as it should. That can cause problems with blood clotting, which can lead to bleeding and bruising. Cirrhosis can also cause fluid buildup in the belly, jaundice, and severe bleeding in the digestive tract.\n",
    "What causes it?\n",
    "Cirrhosis can have many causes. Long-term, heavy use of alcohol can cause cirrhosis. So can chronic viral hepatitis. Other causes include autoimmune diseases, non-alcoholic steatohepatitis (NASH), blocked bile ducts in the liver, and certain diseases.\n",
    "What are the symptoms?\n",
    "You may not have symptoms in the early stages of cirrhosis. But as it gets worse, symptoms may include fatigue, yellowing of the skin (jaundice), small red spots and tiny lines on the skin, bruising easily, weight loss, itching, belly pain, and bleeding in the digestive tract.\n",
    "How is cirrhosis treated?\n",
    "Treatment may include medicines such as Diuretics, surgery, or lifestyle changes. Treatment can't cure cirrhosis. But it can sometimes prevent or delay more liver damage. To limit the damage to your liver and help control symptoms, you can make lifestyle changes. For example, don't drink alcohol. Limit sodium and fat. And avoid medicines that can harm your liver.\n",
    "\"\"\"\n",
    "\n",
    "with open('cirrhosis.txt', 'w') as file:\n",
    "    file.write(content)\n",
    "\n",
    "!ontogpt extract -t condbasics -i cirrhosis.txt "
   ]
  },
  {
   "cell_type": "markdown",
   "id": "52571180-6223-48a4-85e2-514d6adaab73",
   "metadata": {},
   "source": [
    "TK: Grouding against a local model?"
   ]
  }
 ],
 "metadata": {
  "kernelspec": {
   "display_name": "Python 3 (ipykernel)",
   "language": "python",
   "name": "python3"
  },
  "language_info": {
   "codemirror_mode": {
    "name": "ipython",
    "version": 3
   },
   "file_extension": ".py",
   "mimetype": "text/x-python",
   "name": "python",
   "nbconvert_exporter": "python",
   "pygments_lexer": "ipython3",
   "version": "3.11.5"
  }
 },
 "nbformat": 4,
 "nbformat_minor": 5
}
